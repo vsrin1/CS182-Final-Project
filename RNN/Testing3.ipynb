{
 "cells": [
  {
   "cell_type": "code",
   "execution_count": 1,
   "metadata": {},
   "outputs": [],
   "source": [
    "import tensorflow as tf\n",
    "import pandas as pd\n",
    "import numpy as np\n",
    "import os\n",
    "import models\n",
    "import importlib\n",
    "os.environ['KMP_DUPLICATE_LIB_OK']='True'\n",
    "from matplotlib import pyplot as plt"
   ]
  },
  {
   "cell_type": "code",
   "execution_count": 2,
   "metadata": {},
   "outputs": [
    {
     "data": {
      "text/plain": [
       "<module 'models' from '/Users/varun/School/CS182/finalproj/CS182-Spring2020-NLP-Project/models.py'>"
      ]
     },
     "execution_count": 2,
     "metadata": {},
     "output_type": "execute_result"
    }
   ],
   "source": [
    "importlib.reload(models)"
   ]
  },
  {
   "cell_type": "code",
   "execution_count": 3,
   "metadata": {},
   "outputs": [],
   "source": [
    "df = pd.read_csv(\"dataset-binary.csv\")\n",
    "df = df.dropna()"
   ]
  },
  {
   "cell_type": "code",
   "execution_count": 4,
   "metadata": {},
   "outputs": [],
   "source": [
    "train_df = df.iloc[int(len(df) * .8):]\n",
    "test_df = df.iloc[:int(len(df) * .8)]"
   ]
  },
  {
   "cell_type": "markdown",
   "metadata": {},
   "source": [
    "# Current Best Model Performance"
   ]
  },
  {
   "cell_type": "code",
   "execution_count": 5,
   "metadata": {},
   "outputs": [],
   "source": [
    "best, best_tr = models.save_load_model(True, (\"best.h5\", \"best.csv\")) "
   ]
  },
  {
   "cell_type": "code",
   "execution_count": 164,
   "metadata": {},
   "outputs": [],
   "source": [
    "subset_df = test_df[:1000]"
   ]
  },
  {
   "cell_type": "code",
   "execution_count": 162,
   "metadata": {},
   "outputs": [
    {
     "data": {
      "text/plain": [
       "0.87486035"
      ]
     },
     "execution_count": 162,
     "metadata": {},
     "output_type": "execute_result"
    }
   ],
   "source": [
    "models.test_on_random_subset(10000, subset_df[\"text\"],\n",
    "                            subset_df[[\"stars_1.0\", \"stars_2.0\", \"stars_3.0\", \"stars_4.0\", \"stars_5.0\"]].values,\n",
    "                            best_tr, 5000, 200, best)"
   ]
  },
  {
   "cell_type": "markdown",
   "metadata": {},
   "source": [
    "# Testing Field"
   ]
  },
  {
   "cell_type": "code",
   "execution_count": 158,
   "metadata": {},
   "outputs": [],
   "source": [
    "training_reviews, training_stars, test_reviews, test_stars = models.get_fit_samples(train_df, test_df, 10000)"
   ]
  },
  {
   "cell_type": "code",
   "execution_count": 159,
   "metadata": {},
   "outputs": [
    {
     "name": "stdout",
     "output_type": "stream",
     "text": [
      "Train on 8000 samples, validate on 2000 samples\n",
      "Epoch 1/10\n",
      "8000/8000 - 143s - loss: 0.4083 - accuracy: 0.8268 - val_loss: 0.3194 - val_accuracy: 0.8814\n",
      "Epoch 2/10\n",
      "8000/8000 - 139s - loss: 0.2981 - accuracy: 0.8844 - val_loss: 0.2574 - val_accuracy: 0.9054\n",
      "Epoch 3/10\n",
      "8000/8000 - 140s - loss: 0.2573 - accuracy: 0.8992 - val_loss: 0.2413 - val_accuracy: 0.9091\n",
      "Epoch 4/10\n",
      "8000/8000 - 143s - loss: 0.2348 - accuracy: 0.9070 - val_loss: 0.2255 - val_accuracy: 0.9132\n",
      "Epoch 5/10\n",
      "8000/8000 - 135s - loss: 0.2179 - accuracy: 0.9103 - val_loss: 0.2283 - val_accuracy: 0.9113\n",
      "Epoch 6/10\n",
      "8000/8000 - 133s - loss: 0.2076 - accuracy: 0.9147 - val_loss: 0.2179 - val_accuracy: 0.9169\n",
      "Epoch 7/10\n",
      "8000/8000 - 132s - loss: 0.1984 - accuracy: 0.9175 - val_loss: 0.2217 - val_accuracy: 0.9148\n",
      "Epoch 8/10\n",
      "8000/8000 - 132s - loss: 0.1849 - accuracy: 0.9213 - val_loss: 0.2231 - val_accuracy: 0.9145\n",
      "Epoch 9/10\n",
      "8000/8000 - 133s - loss: 0.1777 - accuracy: 0.9249 - val_loss: 0.2282 - val_accuracy: 0.9107\n",
      "Epoch 10/10\n",
      "8000/8000 - 131s - loss: 0.1691 - accuracy: 0.9280 - val_loss: 0.2359 - val_accuracy: 0.9106\n"
     ]
    }
   ],
   "source": [
    "model, history = models.kaggle_model(10, training_reviews, test_reviews, training_stars, test_stars)"
   ]
  },
  {
   "cell_type": "code",
   "execution_count": 165,
   "metadata": {},
   "outputs": [
    {
     "data": {
      "text/plain": [
       "0.88747966"
      ]
     },
     "execution_count": 165,
     "metadata": {},
     "output_type": "execute_result"
    }
   ],
   "source": [
    "models.test_on_random_subset(10000, subset_df[\"text\"],\n",
    "                            subset_df[[\"stars_1.0\", \"stars_2.0\", \"stars_3.0\", \"stars_4.0\", \"stars_5.0\"]].values,\n",
    "                            training_reviews, 5000, 200, model)"
   ]
  },
  {
   "cell_type": "code",
   "execution_count": 167,
   "metadata": {},
   "outputs": [
    {
     "name": "stdout",
     "output_type": "stream",
     "text": [
      "0.8594\n",
      "0.86899996\n",
      "--------------------\n",
      "0.8687999\n",
      "0.8748\n",
      "--------------------\n",
      "0.87320006\n",
      "0.87520003\n",
      "--------------------\n",
      "0.87619996\n",
      "0.87880003\n",
      "--------------------\n",
      "0.87200004\n",
      "0.87979996\n",
      "--------------------\n",
      "0.879\n",
      "0.8859999\n",
      "--------------------\n",
      "0.86899996\n",
      "0.87000006\n",
      "--------------------\n",
      "0.88000005\n",
      "0.88519996\n",
      "--------------------\n",
      "0.88220006\n",
      "0.8878001\n",
      "--------------------\n",
      "0.88879997\n",
      "0.899\n",
      "--------------------\n"
     ]
    }
   ],
   "source": [
    "for i in range(10):\n",
    "    subset_df = test_df[1000 * i:1000 * (i + 1)]\n",
    "    print(models.test_on_random_subset(1000, subset_df[\"text\"],\n",
    "                            subset_df[[\"stars_1.0\", \"stars_2.0\", \"stars_3.0\", \"stars_4.0\", \"stars_5.0\"]].values,\n",
    "                            best_tr, 5000, 200, best))\n",
    "    print(models.test_on_random_subset(1000, subset_df[\"text\"],\n",
    "                            subset_df[[\"stars_1.0\", \"stars_2.0\", \"stars_3.0\", \"stars_4.0\", \"stars_5.0\"]].values,\n",
    "                            training_reviews, 5000, 200, model))\n",
    "    print(\"--------------------\")"
   ]
  },
  {
   "cell_type": "code",
   "execution_count": 8,
   "metadata": {},
   "outputs": [
    {
     "data": {
      "text/plain": [
       "\"Never again....\\nThey dont clean around the nail and will leave your nails with acrylic residue all on your hands... they'll see it but not even clean it.\\nThere was a lot of getting up in between doing my nails and multi-tasking with doing other people's nails. I will not be coming here again. I dont recommend\""
      ]
     },
     "execution_count": 8,
     "metadata": {},
     "output_type": "execute_result"
    }
   ],
   "source": [
    "train_df.iloc[0][2]"
   ]
  },
  {
   "cell_type": "code",
   "execution_count": null,
   "metadata": {},
   "outputs": [],
   "source": []
  },
  {
   "cell_type": "code",
   "execution_count": null,
   "metadata": {},
   "outputs": [],
   "source": []
  }
 ],
 "metadata": {
  "kernelspec": {
   "display_name": "Python 3",
   "language": "python",
   "name": "python3"
  },
  "language_info": {
   "codemirror_mode": {
    "name": "ipython",
    "version": 3
   },
   "file_extension": ".py",
   "mimetype": "text/x-python",
   "name": "python",
   "nbconvert_exporter": "python",
   "pygments_lexer": "ipython3",
   "version": "3.7.4"
  }
 },
 "nbformat": 4,
 "nbformat_minor": 2
}
