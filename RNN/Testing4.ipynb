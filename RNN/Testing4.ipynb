{
 "cells": [
  {
   "cell_type": "code",
   "execution_count": 43,
   "metadata": {},
   "outputs": [],
   "source": [
    "import tensorflow as tf\n",
    "import pandas as pd\n",
    "import numpy as np\n",
    "import os\n",
    "import models\n",
    "import importlib\n",
    "os.environ['KMP_DUPLICATE_LIB_OK']='True'\n",
    "from matplotlib import pyplot as plt"
   ]
  },
  {
   "cell_type": "code",
   "execution_count": 124,
   "metadata": {},
   "outputs": [
    {
     "data": {
      "text/plain": [
       "<module 'models' from '/Users/varun/School/CS182/finalproj/CS182-Spring2020-NLP-Project/models.py'>"
      ]
     },
     "execution_count": 124,
     "metadata": {},
     "output_type": "execute_result"
    }
   ],
   "source": [
    "importlib.reload(models)"
   ]
  },
  {
   "cell_type": "code",
   "execution_count": 45,
   "metadata": {},
   "outputs": [],
   "source": [
    "df = pd.read_csv(\"dataset-binary.csv\")\n",
    "df = df.dropna()"
   ]
  },
  {
   "cell_type": "code",
   "execution_count": 46,
   "metadata": {},
   "outputs": [],
   "source": [
    "train_df = df.iloc[int(len(df) * .8):]\n",
    "test_df = df.iloc[:int(len(df) * .8)]"
   ]
  },
  {
   "cell_type": "code",
   "execution_count": 47,
   "metadata": {},
   "outputs": [],
   "source": [
    "model = tf.keras.models.load_model(\"best.h5\")"
   ]
  },
  {
   "cell_type": "code",
   "execution_count": 48,
   "metadata": {},
   "outputs": [],
   "source": [
    "training_reviews, training_stars, test_reviews, test_stars = models.get_fit_samples(train_df, test_df, 10000)"
   ]
  },
  {
   "cell_type": "code",
   "execution_count": 49,
   "metadata": {},
   "outputs": [],
   "source": [
    "training_stars = np.array([np.array([1]) if i[0] == 1 or i[1] == 1 or i[2] == 1 else np.array([0]) for i in training_stars])\n",
    "test_stars = np.array([np.array([1]) if i[0] == 1 or i[1] == 1 or i[2] == 1 else np.array([0]) for i in test_stars])"
   ]
  },
  {
   "cell_type": "code",
   "execution_count": 59,
   "metadata": {},
   "outputs": [
    {
     "name": "stdout",
     "output_type": "stream",
     "text": [
      "Train on 8000 samples, validate on 2000 samples\n",
      "Epoch 1/5\n",
      "8000/8000 - 128s - loss: 0.6775 - accuracy: 0.6923 - val_loss: 0.4176 - val_accuracy: 0.8410\n",
      "Epoch 2/5\n",
      "8000/8000 - 125s - loss: 0.8835 - accuracy: 0.7749 - val_loss: 0.4403 - val_accuracy: 0.8430\n",
      "Epoch 3/5\n",
      "8000/8000 - 123s - loss: 0.5620 - accuracy: 0.8230 - val_loss: 0.4827 - val_accuracy: 0.8145\n",
      "Epoch 4/5\n",
      "8000/8000 - 118s - loss: 0.4145 - accuracy: 0.8530 - val_loss: 0.3171 - val_accuracy: 0.8935\n",
      "Epoch 5/5\n",
      "8000/8000 - 119s - loss: 0.4048 - accuracy: 0.8686 - val_loss: 0.3254 - val_accuracy: 0.8965\n"
     ]
    }
   ],
   "source": [
    "model, history = models.single_star_model(5, training_reviews, test_reviews, training_stars, test_stars)"
   ]
  },
  {
   "cell_type": "code",
   "execution_count": 69,
   "metadata": {},
   "outputs": [],
   "source": [
    "training_padded, test_padded = models.evaluate_gen(training_reviews, test_reviews)"
   ]
  },
  {
   "cell_type": "code",
   "execution_count": 70,
   "metadata": {},
   "outputs": [],
   "source": [
    "temp = model.predict(training_padded[0:200])  "
   ]
  },
  {
   "cell_type": "code",
   "execution_count": 71,
   "metadata": {},
   "outputs": [],
   "source": [
    "temp = np.array([np.array([1]) if i[0] >= .5 else np.array([0]) for i in temp])"
   ]
  },
  {
   "cell_type": "code",
   "execution_count": 73,
   "metadata": {},
   "outputs": [
    {
     "data": {
      "text/plain": [
       "0.92"
      ]
     },
     "execution_count": 73,
     "metadata": {},
     "output_type": "execute_result"
    }
   ],
   "source": [
    "corr = 0\n",
    "for i in range(200):\n",
    "    if temp[i] == training_stars[0:200][i]:\n",
    "        corr += 1\n",
    "corr / 200"
   ]
  },
  {
   "cell_type": "code",
   "execution_count": 125,
   "metadata": {},
   "outputs": [
    {
     "name": "stdout",
     "output_type": "stream",
     "text": [
      "Train on 8000 samples, validate on 2000 samples\n",
      "Epoch 1/5\n",
      "8000/8000 - 123s - loss: 0.5864 - accuracy: 0.7121 - val_loss: 0.6797 - val_accuracy: 0.7925\n",
      "Epoch 2/5\n",
      "8000/8000 - 117s - loss: 0.5234 - accuracy: 0.8245 - val_loss: 1.0954 - val_accuracy: 0.8160\n",
      "Epoch 3/5\n",
      "8000/8000 - 118s - loss: 0.6520 - accuracy: 0.8149 - val_loss: 0.4183 - val_accuracy: 0.8755\n",
      "Epoch 4/5\n",
      "8000/8000 - 119s - loss: 0.7744 - accuracy: 0.8152 - val_loss: 2.4884 - val_accuracy: 0.6710\n",
      "Epoch 5/5\n",
      "8000/8000 - 120s - loss: 1.3757 - accuracy: 0.6855 - val_loss: 0.4234 - val_accuracy: 0.8075\n"
     ]
    }
   ],
   "source": [
    "model2, history_2 = models.single_star_pre(5, training_reviews, test_reviews, training_stars, test_stars)"
   ]
  },
  {
   "cell_type": "code",
   "execution_count": 126,
   "metadata": {},
   "outputs": [],
   "source": [
    "training_padded = np.array([np.array([i]) for i in training_padded])\n",
    "test_padded = np.array([np.array([i]) for i in test_padded])"
   ]
  },
  {
   "cell_type": "code",
   "execution_count": 141,
   "metadata": {},
   "outputs": [],
   "source": [
    "temp2 = model2.predict(training_padded[0])"
   ]
  },
  {
   "cell_type": "code",
   "execution_count": 136,
   "metadata": {},
   "outputs": [],
   "source": [
    "temp2 = np.array([np.array([1]) if i[0] >= .5 else np.array([0]) for i in temp2])"
   ]
  },
  {
   "cell_type": "code",
   "execution_count": 137,
   "metadata": {},
   "outputs": [
    {
     "data": {
      "text/plain": [
       "0.845"
      ]
     },
     "execution_count": 137,
     "metadata": {},
     "output_type": "execute_result"
    }
   ],
   "source": [
    "corr = 0\n",
    "for i in range(200):\n",
    "    if temp2[i] == training_stars[0:200][i]:\n",
    "        corr += 1\n",
    "corr / 200"
   ]
  },
  {
   "cell_type": "code",
   "execution_count": 144,
   "metadata": {},
   "outputs": [
    {
     "data": {
      "text/plain": [
       "0.18762511"
      ]
     },
     "execution_count": 144,
     "metadata": {},
     "output_type": "execute_result"
    }
   ],
   "source": [
    "temp2[0][0]"
   ]
  },
  {
   "cell_type": "code",
   "execution_count": null,
   "metadata": {},
   "outputs": [],
   "source": []
  }
 ],
 "metadata": {
  "kernelspec": {
   "display_name": "Python 3",
   "language": "python",
   "name": "python3"
  },
  "language_info": {
   "codemirror_mode": {
    "name": "ipython",
    "version": 3
   },
   "file_extension": ".py",
   "mimetype": "text/x-python",
   "name": "python",
   "nbconvert_exporter": "python",
   "pygments_lexer": "ipython3",
   "version": "3.7.4"
  }
 },
 "nbformat": 4,
 "nbformat_minor": 2
}
