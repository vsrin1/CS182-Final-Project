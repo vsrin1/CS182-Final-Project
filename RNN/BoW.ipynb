{
 "cells": [
  {
   "cell_type": "code",
   "execution_count": 48,
   "metadata": {},
   "outputs": [],
   "source": [
    "import tensorflow as tf\n",
    "import pandas as pd\n",
    "import numpy as np\n",
    "import os\n",
    "import models\n",
    "import importlib\n",
    "os.environ['KMP_DUPLICATE_LIB_OK']='True'\n",
    "from matplotlib import pyplot as plt\n",
    "K = tf.keras.backend\n",
    "import string"
   ]
  },
  {
   "cell_type": "code",
   "execution_count": 34,
   "metadata": {},
   "outputs": [
    {
     "data": {
      "text/plain": [
       "<module 'models' from '/Users/varun/School/CS182/finalproj/CS182-Spring2020-NLP-Project/models.py'>"
      ]
     },
     "execution_count": 34,
     "metadata": {},
     "output_type": "execute_result"
    }
   ],
   "source": [
    "importlib.reload(models)"
   ]
  },
  {
   "cell_type": "code",
   "execution_count": 82,
   "metadata": {},
   "outputs": [],
   "source": [
    "df = pd.read_csv(\"dataset-binary.csv\")\n",
    "df = df.dropna()\n",
    "train_df = df.iloc[:int(len(df) * .8)]\n",
    "test_df = df.iloc[int(len(df) * .8):]"
   ]
  },
  {
   "cell_type": "code",
   "execution_count": 83,
   "metadata": {},
   "outputs": [],
   "source": [
    "train_texts = train_df[\"text\"].values\n",
    "train_stars = train_df[[\"stars_1.0\", \"stars_2.0\", \"stars_3.0\", \"stars_4.0\", \"stars_5.0\"]].values\n",
    "test_texts = test_df[\"text\"].values\n",
    "test_stars = test_df[[\"stars_1.0\", \"stars_2.0\", \"stars_3.0\", \"stars_4.0\", \"stars_5.0\"]].values"
   ]
  },
  {
   "cell_type": "code",
   "execution_count": 88,
   "metadata": {},
   "outputs": [],
   "source": [
    "def get_star_from_one_hot(star):\n",
    "    return np.argmax(star) + 1"
   ]
  },
  {
   "cell_type": "code",
   "execution_count": 89,
   "metadata": {},
   "outputs": [],
   "source": [
    "stars_un_one_hot = np.array([get_star_from_one_hot(i) for i in train_stars])"
   ]
  },
  {
   "cell_type": "code",
   "execution_count": 90,
   "metadata": {},
   "outputs": [],
   "source": [
    "one_stars = []\n",
    "two_stars = []\n",
    "three_stars = []\n",
    "four_stars = []\n",
    "five_stars = []\n",
    "for i in range(len(train_texts)):\n",
    "    if stars_un_one_hot[i] == 1:\n",
    "        one_stars.append((train_texts[i], 1))\n",
    "    if stars_un_one_hot[i] == 2:\n",
    "        two_stars.append((train_texts[i], 2))\n",
    "    if stars_un_one_hot[i] == 3:\n",
    "        three_stars.append((train_texts[i], 3))\n",
    "    if stars_un_one_hot[i] == 4:\n",
    "        four_stars.append((train_texts[i], 4))\n",
    "    if stars_un_one_hot[i] == 5:\n",
    "        five_stars.append((train_texts[i], 5))"
   ]
  },
  {
   "cell_type": "code",
   "execution_count": 91,
   "metadata": {},
   "outputs": [],
   "source": [
    "ones = models.tokenizer_sorted_out([i[0] for i in one_stars])\n",
    "twos = models.tokenizer_sorted_out([i[0] for i in two_stars])\n",
    "threes = models.tokenizer_sorted_out([i[0] for i in three_stars])\n",
    "fours = models.tokenizer_sorted_out([i[0] for i in four_stars])\n",
    "fives = models.tokenizer_sorted_out([i[0] for i in five_stars])"
   ]
  },
  {
   "cell_type": "code",
   "execution_count": 92,
   "metadata": {},
   "outputs": [],
   "source": [
    "ones_sum = sum([i[1] for i in ones])\n",
    "twos_sum = sum([i[1] for i in twos])\n",
    "threes_sum = sum([i[1] for i in threes])\n",
    "fours_sum = sum([i[1] for i in fours])\n",
    "fives_sum = sum([i[1] for i in fives])"
   ]
  },
  {
   "cell_type": "code",
   "execution_count": 93,
   "metadata": {},
   "outputs": [],
   "source": [
    "ones = [(i[0], i[1] / ones_sum) for i in ones]\n",
    "twos = [(i[0], i[1] / twos_sum) for i in twos]\n",
    "threes = [(i[0], i[1] / threes_sum) for i in threes]\n",
    "fours = [(i[0], i[1] / fours_sum) for i in fours]\n",
    "fives = [(i[0], i[1] / fives_sum) for i in fives]"
   ]
  },
  {
   "cell_type": "code",
   "execution_count": 94,
   "metadata": {},
   "outputs": [],
   "source": [
    "ones = dict(ones)\n",
    "twos = dict(twos)\n",
    "threes = dict(threes)\n",
    "fours = dict(fours)\n",
    "fives = dict(fives)"
   ]
  },
  {
   "cell_type": "code",
   "execution_count": 95,
   "metadata": {},
   "outputs": [],
   "source": [
    "def review_to_dict(entry):\n",
    "    entry = entry.split()\n",
    "    clean_punc = []\n",
    "    for i in entry: \n",
    "        temp = i.translate(str.maketrans('', '', string.punctuation))\n",
    "        if temp != \"\":\n",
    "            clean_punc.append(temp.lower())\n",
    "    entry = clean_punc\n",
    "    entry_dict = dict()\n",
    "    for i in entry:\n",
    "        if i in entry_dict:\n",
    "            entry_dict[i] = entry_dict[i] + 1\n",
    "        else:\n",
    "            entry_dict[i] = 1\n",
    "    for i in entry_dict.keys():\n",
    "        entry_dict[i] = entry_dict[i] / len(entry)\n",
    "    return entry_dict"
   ]
  },
  {
   "cell_type": "code",
   "execution_count": 96,
   "metadata": {},
   "outputs": [],
   "source": [
    "def kl_divergence(p, q):\n",
    "    return np.sum(np.where(p != 0, p * np.log(p / q), 0))\n",
    "def comp_dicts(sdict, rdict):\n",
    "    rdist = []\n",
    "    sdist = []\n",
    "    for i in rdict.keys():\n",
    "        if i in sdict:\n",
    "            rdist.append(rdict[i])\n",
    "            sdist.append(sdict[i])\n",
    "    return kl_divergence(np.array(rdist), np.array(sdist))"
   ]
  },
  {
   "cell_type": "code",
   "execution_count": 105,
   "metadata": {},
   "outputs": [
    {
     "name": "stdout",
     "output_type": "stream",
     "text": [
      "0.5084\n",
      "1.614320585842148\n",
      "2.1059205858421484\n"
     ]
    }
   ],
   "source": [
    "corr = 0\n",
    "dist = 0\n",
    "for i in range(2500):\n",
    "    rdict = review_to_dict(test_texts[i])\n",
    "    ind = np.argmin(np.array([np.abs(comp_dicts(ones, rdict)), np.abs(comp_dicts(twos, rdict)), \n",
    "                        np.abs(comp_dicts(threes, rdict)), np.abs(comp_dicts(fours, rdict)), \n",
    "                        np.abs(comp_dicts(fives, rdict))]))\n",
    "    if ind == np.argmax(test_stars[i]):\n",
    "        corr += 1\n",
    "    else:\n",
    "        dist += np.abs(ind - np.argmax(test_stars[i]))\n",
    "print(corr / 2500)\n",
    "print(dist / (2500 - corr))\n",
    "print((1 - (corr / 2500)) + (dist / (2500 - corr)))"
   ]
  },
  {
   "cell_type": "code",
   "execution_count": null,
   "metadata": {},
   "outputs": [],
   "source": []
  },
  {
   "cell_type": "code",
   "execution_count": null,
   "metadata": {},
   "outputs": [],
   "source": []
  }
 ],
 "metadata": {
  "kernelspec": {
   "display_name": "Python 3",
   "language": "python",
   "name": "python3"
  },
  "language_info": {
   "codemirror_mode": {
    "name": "ipython",
    "version": 3
   },
   "file_extension": ".py",
   "mimetype": "text/x-python",
   "name": "python",
   "nbconvert_exporter": "python",
   "pygments_lexer": "ipython3",
   "version": "3.7.4"
  }
 },
 "nbformat": 4,
 "nbformat_minor": 2
}
