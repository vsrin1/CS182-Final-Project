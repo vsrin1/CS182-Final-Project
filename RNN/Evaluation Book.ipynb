{
 "cells": [
  {
   "cell_type": "code",
   "execution_count": 1,
   "metadata": {},
   "outputs": [],
   "source": [
    "import tensorflow as tf\n",
    "import pandas as pd\n",
    "import numpy as np\n",
    "import os\n",
    "import models\n",
    "import importlib\n",
    "os.environ['KMP_DUPLICATE_LIB_OK']='True'\n",
    "from matplotlib import pyplot as plt\n",
    "K = tf.keras.backend"
   ]
  },
  {
   "cell_type": "code",
   "execution_count": 2,
   "metadata": {},
   "outputs": [
    {
     "data": {
      "text/plain": [
       "<module 'models' from '/Users/varun/School/CS182/finalproj/CS182-Spring2020-NLP-Project/models.py'>"
      ]
     },
     "execution_count": 2,
     "metadata": {},
     "output_type": "execute_result"
    }
   ],
   "source": [
    "importlib.reload(models)"
   ]
  },
  {
   "cell_type": "code",
   "execution_count": 3,
   "metadata": {},
   "outputs": [],
   "source": [
    "df = pd.read_csv(\"dataset-binary.csv\")\n",
    "df = df.dropna()\n",
    "clean_df = pd.read_csv(\"clean_large.csv\")\n",
    "clean_df = clean_df.dropna()\n",
    "ultra_clean_df = pd.read_csv(\"ultra_clean.csv\")\n",
    "ultra_clean_df = ultra_clean_df.dropna()"
   ]
  },
  {
   "cell_type": "code",
   "execution_count": 4,
   "metadata": {},
   "outputs": [],
   "source": [
    "train_df = df.iloc[:int(len(df) * .8)]\n",
    "test_df = df.iloc[int(len(df) * .8):]\n",
    "train_df_c = clean_df.iloc[:int(len(clean_df) * .8)]\n",
    "test_df_c = clean_df.iloc[int(len(clean_df) * .8):]\n",
    "train_df_u = ultra_clean_df.iloc[:int(len(ultra_clean_df) * .8)]\n",
    "test_df_u = ultra_clean_df.iloc[int(len(ultra_clean_df) * .8):]"
   ]
  },
  {
   "cell_type": "code",
   "execution_count": 5,
   "metadata": {},
   "outputs": [],
   "source": [
    "def custom_accuracy(y_true, y_pred):\n",
    "        return K.sum(K.cast(K.equal(K.argmax(y_true), K.argmax(y_pred)), dtype = tf.int32)) / 32\n",
    "\n",
    "def distance(y_true, y_pred):\n",
    "        total_corr = K.sum(K.cast(K.equal(K.argmax(y_true), K.argmax(y_pred)), dtype = tf.int32))\n",
    "        return K.sum(K.cast(K.abs(K.argmax(y_true) - K.argmax(y_pred)), dtype = tf.int32)) / (32 - total_corr)\n",
    "    \n",
    "def sum_metrics(y_true, y_pred):\n",
    "        acc = (32 - K.sum(K.cast(K.equal(K.argmax(y_true), K.argmax(y_pred)), dtype = tf.int32))) / 32\n",
    "        total_corr = K.sum(K.cast(K.equal(K.argmax(y_true), K.argmax(y_pred)), dtype = tf.int32))\n",
    "        return acc + K.sum(K.cast(K.abs(K.argmax(y_true) - K.argmax(y_pred)), dtype = tf.int32)) / (32 - total_corr)"
   ]
  },
  {
   "cell_type": "code",
   "execution_count": 78,
   "metadata": {},
   "outputs": [],
   "source": [
    "def accuracy_on_set(tokenizer, test_reviews, test_stars, model):\n",
    "    test_padded = tf.keras.preprocessing.sequence.pad_sequences(tokenizer.texts_to_sequences(test_reviews), maxlen = 250, padding = 'post', truncating = 'post')\n",
    "    pred = model.predict(test_padded)\n",
    "    corr = 0\n",
    "    for i in range(len(test_stars)):\n",
    "        if np.argmax(pred[i]) == np.argmax(test_stars[i]):\n",
    "            corr += 1\n",
    "    print(corr / len(test_stars))\n",
    "    return pred, test_stars\n",
    "\n",
    "def distance_on_set(tokenizer, test_reviews, test_stars, model):\n",
    "    test_padded = tf.keras.preprocessing.sequence.pad_sequences(tokenizer.texts_to_sequences(test_reviews), maxlen = 250, padding = 'post', truncating = 'post')\n",
    "    pred = model.predict(test_padded)\n",
    "    corr = 0\n",
    "    dist_sum = 0\n",
    "    for i in range(len(test_stars)):\n",
    "        if np.argmax(pred[i]) == np.argmax(test_stars[i]):\n",
    "            corr += 1\n",
    "        else:\n",
    "            dist_sum += np.abs(np.argmax(pred[i]) - np.argmax(test_stars[i]))\n",
    "    print(dist_sum / (len(test_stars) - corr))\n",
    "    return pred, test_stars\n",
    "    \n",
    "def sum_metric_on_set(tokenizer, test_reviews, test_stars, model):\n",
    "    test_padded = tf.keras.preprocessing.sequence.pad_sequences(tokenizer.texts_to_sequences(test_reviews), maxlen = 250, padding = 'post', truncating = 'post')\n",
    "    pred = model.predict(test_padded)\n",
    "    corr = 0\n",
    "    dist_sum = 0\n",
    "    for i in range(len(test_stars)):\n",
    "        if np.argmax(pred[i]) == np.argmax(test_stars[i]):\n",
    "            corr += 1\n",
    "        else:\n",
    "            dist_sum += np.abs(np.argmax(pred[i]) - np.argmax(test_stars[i]))\n",
    "    print(corr / len(test_stars))\n",
    "    print(dist_sum / (len(test_stars) - corr))\n",
    "    print(((dist_sum / (len(test_stars) - corr)) / 4) + 1 - (corr / len(test_stars)))\n",
    "    print((dist_sum / (len(test_stars) - corr)) + 1 - (corr / len(test_stars)))\n",
    "    return pred, test_stars\n",
    "\n",
    "def sum_metric_on_set(tokenizer, test_reviews, test_stars, model, model_or_func = True):\n",
    "    test_padded = tf.keras.preprocessing.sequence.pad_sequences(tokenizer.texts_to_sequences(test_reviews), maxlen = 250, padding = 'post', truncating = 'post')\n",
    "    pred = None\n",
    "    if model_or_func:\n",
    "        pred = model.predict(test_padded)\n",
    "    else:\n",
    "        pred = model(test_padded)\n",
    "    corr = 0\n",
    "    dist_sum = 0\n",
    "    for i in range(len(test_stars)):\n",
    "        if np.argmax(pred[i]) == np.argmax(test_stars[i]):\n",
    "            corr += 1\n",
    "        else:\n",
    "            dist_sum += np.abs(np.argmax(pred[i]) - np.argmax(test_stars[i]))\n",
    "    print(corr / len(test_stars))\n",
    "    print(dist_sum / (len(test_stars) - corr))\n",
    "    print(((dist_sum / (len(test_stars) - corr)) / 4) + 1 - (corr / len(test_stars)))\n",
    "    print((dist_sum / (len(test_stars) - corr)) + 1 - (corr / len(test_stars)))\n",
    "    return pred, test_stars"
   ]
  },
  {
   "cell_type": "code",
   "execution_count": 7,
   "metadata": {},
   "outputs": [],
   "source": [
    "tokenizer = tf.keras.preprocessing.text.Tokenizer(num_words = 5000, oov_token = '<OOV>')\n",
    "tokenizer.fit_on_texts(train_df[\"text\"])"
   ]
  },
  {
   "cell_type": "code",
   "execution_count": 8,
   "metadata": {},
   "outputs": [],
   "source": [
    "b = tf.keras.models.load_model(\"b.h5\")"
   ]
  },
  {
   "cell_type": "code",
   "execution_count": 9,
   "metadata": {},
   "outputs": [],
   "source": [
    "bwcm_no_probs = tf.keras.models.load_model(\"bwcm_no_probs.h5\", \n",
    "                                            custom_objects = {'custom_accuracy' : custom_accuracy, \n",
    "                                                             'distance' : distance,\n",
    "                                                             'sum_metrics' : sum_metrics})"
   ]
  },
  {
   "cell_type": "code",
   "execution_count": 10,
   "metadata": {},
   "outputs": [],
   "source": [
    "bwcm_8_probs_2 = tf.keras.models.load_model(\"bwcm_8_probs_2.h5\", \n",
    "                                            custom_objects = {'custom_accuracy' : custom_accuracy, \n",
    "                                                             'distance' : distance,\n",
    "                                                             'sum_metrics' : sum_metrics})"
   ]
  },
  {
   "cell_type": "code",
   "execution_count": 11,
   "metadata": {},
   "outputs": [],
   "source": [
    "bwcm_no_probs_dr = tf.keras.models.load_model(\"bwcm_no_probs_dr.h5\", \n",
    "                                            custom_objects = {'custom_accuracy' : custom_accuracy, \n",
    "                                                             'distance' : distance,\n",
    "                                                             'sum_metrics' : sum_metrics})"
   ]
  },
  {
   "cell_type": "code",
   "execution_count": 12,
   "metadata": {},
   "outputs": [],
   "source": [
    "bwcm_5_probs = tf.keras.models.load_model(\"bwcm_5_probs.h5\", \n",
    "                                            custom_objects = {'custom_accuracy' : custom_accuracy, \n",
    "                                                             'distance' : distance,\n",
    "                                                             'sum_metrics' : sum_metrics})"
   ]
  },
  {
   "cell_type": "code",
   "execution_count": 13,
   "metadata": {},
   "outputs": [],
   "source": [
    "bwcm_e_probs = tf.keras.models.load_model(\"bwcm_e_probs.h5\", \n",
    "                                            custom_objects = {'custom_accuracy' : custom_accuracy, \n",
    "                                                             'distance' : distance,\n",
    "                                                             'sum_metrics' : sum_metrics})"
   ]
  },
  {
   "cell_type": "code",
   "execution_count": 14,
   "metadata": {},
   "outputs": [],
   "source": [
    "bwcm_65_probs = tf.keras.models.load_model(\"bwcm_65_probs.h5\", \n",
    "                                            custom_objects = {'custom_accuracy' : custom_accuracy, \n",
    "                                                             'distance' : distance,\n",
    "                                                             'sum_metrics' : sum_metrics})"
   ]
  },
  {
   "cell_type": "code",
   "execution_count": 15,
   "metadata": {},
   "outputs": [],
   "source": [
    "bwcm_65_probs_dr = tf.keras.models.load_model(\"bwcm_65_probs_dr.h5\", \n",
    "                                            custom_objects = {'custom_accuracy' : custom_accuracy, \n",
    "                                                             'distance' : distance,\n",
    "                                                             'sum_metrics' : sum_metrics})"
   ]
  },
  {
   "cell_type": "code",
   "execution_count": 16,
   "metadata": {},
   "outputs": [],
   "source": [
    "bwcm_65_probs_dr_ft = tf.keras.models.load_model(\"bwcm_65_probs_dr_ft.h5\", \n",
    "                                            custom_objects = {'custom_accuracy' : custom_accuracy, \n",
    "                                                             'distance' : distance,\n",
    "                                                             'sum_metrics' : sum_metrics})"
   ]
  },
  {
   "cell_type": "code",
   "execution_count": 17,
   "metadata": {},
   "outputs": [],
   "source": [
    "ft = tf.keras.models.load_model(\"ft.h5\", \n",
    "                                            custom_objects = {'custom_accuracy' : custom_accuracy, \n",
    "                                                             'distance' : distance,\n",
    "                                                             'sum_metrics' : sum_metrics})"
   ]
  },
  {
   "cell_type": "code",
   "execution_count": 18,
   "metadata": {},
   "outputs": [],
   "source": [
    "bwcm_9_probs_dr = tf.keras.models.load_model(\"bwcm_9_probs_dr.h5\",\n",
    "                                            custom_objects = {'custom_accuracy' : custom_accuracy, \n",
    "                                                             'distance' : distance,\n",
    "                                                             'sum_metrics' : sum_metrics})"
   ]
  },
  {
   "cell_type": "code",
   "execution_count": 41,
   "metadata": {},
   "outputs": [],
   "source": [
    "bwcm_9_probs_dr_2 = tf.keras.models.load_model(\"bwcm_9_probs_dr_2.h5\",\n",
    "                                            custom_objects = {'custom_accuracy' : custom_accuracy, \n",
    "                                                             'distance' : distance,\n",
    "                                                             'sum_metrics' : sum_metrics})"
   ]
  },
  {
   "cell_type": "code",
   "execution_count": 55,
   "metadata": {},
   "outputs": [],
   "source": [
    "bwcm_9_probs_dr_e = tf.keras.models.load_model(\"bwcm_9_probs_dr_e.h5\",\n",
    "                                            custom_objects = {'custom_accuracy' : custom_accuracy, \n",
    "                                                             'distance' : distance,\n",
    "                                                             'sum_metrics' : sum_metrics})"
   ]
  },
  {
   "cell_type": "code",
   "execution_count": 100,
   "metadata": {},
   "outputs": [],
   "source": [
    "conc = tf.keras.models.load_model(\"conc.h5\",\n",
    "                                            custom_objects = {'custom_accuracy' : custom_accuracy, \n",
    "                                                             'distance' : distance,\n",
    "                                                             'sum_metrics' : sum_metrics})"
   ]
  },
  {
   "cell_type": "code",
   "execution_count": 71,
   "metadata": {},
   "outputs": [],
   "source": [
    "bwcm_2_probs_dr = tf.keras.models.load_model(\"bwcm_2_probs_dr.h5\",\n",
    "                                            custom_objects = {'custom_accuracy' : custom_accuracy, \n",
    "                                                             'distance' : distance,\n",
    "                                                             'sum_metrics' : sum_metrics})"
   ]
  },
  {
   "cell_type": "code",
   "execution_count": 73,
   "metadata": {},
   "outputs": [],
   "source": [
    "tn_4_5_differ = tf.keras.models.load_model(\"tn_4_5_differ.h5\",\n",
    "                                            custom_objects = {'custom_accuracy' : custom_accuracy, \n",
    "                                                             'distance' : distance,\n",
    "                                                             'sum_metrics' : sum_metrics})"
   ]
  },
  {
   "cell_type": "code",
   "execution_count": 103,
   "metadata": {},
   "outputs": [],
   "source": [
    "conc2 = tf.keras.models.load_model(\"conc2.h5\",\n",
    "                                            custom_objects = {'custom_accuracy' : custom_accuracy, \n",
    "                                                             'distance' : distance,\n",
    "                                                             'sum_metrics' : sum_metrics})"
   ]
  },
  {
   "cell_type": "code",
   "execution_count": 111,
   "metadata": {},
   "outputs": [],
   "source": [
    "conc3 = tf.keras.models.load_model(\"conc3.h5\",\n",
    "                                            custom_objects = {'custom_accuracy' : custom_accuracy, \n",
    "                                                             'distance' : distance,\n",
    "                                                             'sum_metrics' : sum_metrics})"
   ]
  },
  {
   "cell_type": "code",
   "execution_count": 119,
   "metadata": {},
   "outputs": [],
   "source": [
    "conc4 = tf.keras.models.load_model(\"conc4.h5\",\n",
    "                                            custom_objects = {'custom_accuracy' : custom_accuracy, \n",
    "                                                             'distance' : distance,\n",
    "                                                             'sum_metrics' : sum_metrics})"
   ]
  },
  {
   "cell_type": "code",
   "execution_count": 43,
   "metadata": {},
   "outputs": [
    {
     "name": "stdout",
     "output_type": "stream",
     "text": [
      "0.6412\n",
      "1.7536231884057971\n",
      "0.7972057971014492\n",
      "2.112423188405797\n"
     ]
    }
   ],
   "source": [
    "b_pred , b_true = sum_metric_on_set(tokenizer, test_df[\"text\"].values[:2500], \n",
    "                test_df[[\"stars_1.0\", \"stars_2.0\", \"stars_3.0\", \"stars_4.0\", \"stars_5.0\"]].values[:2500], \n",
    "                b)"
   ]
  },
  {
   "cell_type": "code",
   "execution_count": 44,
   "metadata": {},
   "outputs": [
    {
     "name": "stdout",
     "output_type": "stream",
     "text": [
      "0.724\n",
      "1.518840579710145\n",
      "0.6557101449275362\n",
      "1.7948405797101448\n"
     ]
    }
   ],
   "source": [
    "bwcm_8_pred, bwcm_8_true = sum_metric_on_set(tokenizer, test_df[\"text\"].values[:2500], \n",
    "                test_df[[\"stars_1.0\", \"stars_2.0\", \"stars_3.0\", \"stars_4.0\", \"stars_5.0\"]].values[:2500], \n",
    "                bwcm_8_probs_2)"
   ]
  },
  {
   "cell_type": "code",
   "execution_count": 45,
   "metadata": {},
   "outputs": [
    {
     "name": "stdout",
     "output_type": "stream",
     "text": [
      "0.7316\n",
      "1.4411326378539493\n",
      "0.6286831594634872\n",
      "1.7095326378539493\n"
     ]
    }
   ],
   "source": [
    "bwcm_no_p_dr_pred, bwcm_no_p_dr_true = sum_metric_on_set(tokenizer, test_df[\"text\"].values[:2500], \n",
    "                test_df[[\"stars_1.0\", \"stars_2.0\", \"stars_3.0\", \"stars_4.0\", \"stars_5.0\"]].values[:2500], \n",
    "                bwcm_no_probs_dr)"
   ]
  },
  {
   "cell_type": "code",
   "execution_count": 46,
   "metadata": {},
   "outputs": [
    {
     "name": "stdout",
     "output_type": "stream",
     "text": [
      "0.7248\n",
      "1.5087209302325582\n",
      "0.6523802325581395\n",
      "1.7839209302325578\n"
     ]
    }
   ],
   "source": [
    "bwcm_no_p_pred, bwcm_no_p_true = sum_metric_on_set(tokenizer, test_df[\"text\"].values[:2500], \n",
    "                test_df[[\"stars_1.0\", \"stars_2.0\", \"stars_3.0\", \"stars_4.0\", \"stars_5.0\"]].values[:2500], \n",
    "                bwcm_no_probs)"
   ]
  },
  {
   "cell_type": "code",
   "execution_count": 47,
   "metadata": {},
   "outputs": [
    {
     "name": "stdout",
     "output_type": "stream",
     "text": [
      "0.6936\n",
      "1.4530026109660574\n",
      "0.6696506527415145\n",
      "1.7594026109660574\n"
     ]
    }
   ],
   "source": [
    "bwcm_5_pred, bwcm_5_true = sum_metric_on_set(tokenizer, test_df[\"text\"].values[:2500], \n",
    "                test_df[[\"stars_1.0\", \"stars_2.0\", \"stars_3.0\", \"stars_4.0\", \"stars_5.0\"]].values[:2500], \n",
    "                bwcm_5_probs)"
   ]
  },
  {
   "cell_type": "code",
   "execution_count": 48,
   "metadata": {},
   "outputs": [
    {
     "name": "stdout",
     "output_type": "stream",
     "text": [
      "0.1908\n",
      "1.393475037073653\n",
      "1.1575687592684132\n",
      "2.202675037073653\n"
     ]
    }
   ],
   "source": [
    "bwcm_e_pred, bwcm_e_true = sum_metric_on_set(tokenizer, test_df[\"text\"].values[:2500], \n",
    "                test_df[[\"stars_1.0\", \"stars_2.0\", \"stars_3.0\", \"stars_4.0\", \"stars_5.0\"]].values[:2500], \n",
    "                bwcm_e_probs)"
   ]
  },
  {
   "cell_type": "code",
   "execution_count": 49,
   "metadata": {},
   "outputs": [
    {
     "name": "stdout",
     "output_type": "stream",
     "text": [
      "0.728\n",
      "1.463235294117647\n",
      "0.6378088235294117\n",
      "1.7352352941176468\n"
     ]
    }
   ],
   "source": [
    "bwcm_65_pred, bwcm_65_true = sum_metric_on_set(tokenizer, test_df[\"text\"].values[:2500], \n",
    "                test_df[[\"stars_1.0\", \"stars_2.0\", \"stars_3.0\", \"stars_4.0\", \"stars_5.0\"]].values[:2500], \n",
    "                bwcm_65_probs)"
   ]
  },
  {
   "cell_type": "code",
   "execution_count": 50,
   "metadata": {},
   "outputs": [
    {
     "name": "stdout",
     "output_type": "stream",
     "text": [
      "0.7268\n",
      "1.4509516837481697\n",
      "0.6359379209370425\n",
      "1.72415168374817\n"
     ]
    }
   ],
   "source": [
    "bwcm_65_dr_pred, bwcm_65_dr_true = sum_metric_on_set(tokenizer, test_df[\"text\"].values[:2500], \n",
    "                test_df[[\"stars_1.0\", \"stars_2.0\", \"stars_3.0\", \"stars_4.0\", \"stars_5.0\"]].values[:2500], \n",
    "                bwcm_65_probs_dr)"
   ]
  },
  {
   "cell_type": "code",
   "execution_count": 51,
   "metadata": {},
   "outputs": [
    {
     "name": "stdout",
     "output_type": "stream",
     "text": [
      "0.7288\n",
      "1.4454277286135693\n",
      "0.6325569321533923\n",
      "1.716627728613569\n"
     ]
    }
   ],
   "source": [
    "bwcm_65_dr_ft_pred, bwcm_65_dr_ft_true = sum_metric_on_set(tokenizer, test_df[\"text\"].values[:2500], \n",
    "                test_df[[\"stars_1.0\", \"stars_2.0\", \"stars_3.0\", \"stars_4.0\", \"stars_5.0\"]].values[:2500], \n",
    "                bwcm_65_probs_dr_ft)"
   ]
  },
  {
   "cell_type": "code",
   "execution_count": 52,
   "metadata": {},
   "outputs": [
    {
     "name": "stdout",
     "output_type": "stream",
     "text": [
      "0.1784\n",
      "1.181110029211295\n",
      "1.1168775073028239\n",
      "2.002710029211295\n"
     ]
    }
   ],
   "source": [
    "ft_pred, ft_true = sum_metric_on_set(tokenizer, test_df[\"text\"].values[:2500],\n",
    "                test_df[[\"stars_1.0\", \"stars_2.0\", \"stars_3.0\", \"stars_4.0\", \"stars_5.0\"]].values[:2500], \n",
    "                ft)"
   ]
  },
  {
   "cell_type": "code",
   "execution_count": 53,
   "metadata": {},
   "outputs": [
    {
     "name": "stdout",
     "output_type": "stream",
     "text": [
      "0.7324\n",
      "1.4768310911808669\n",
      "0.6368077727952167\n",
      "1.744431091180867\n"
     ]
    }
   ],
   "source": [
    "bwcm_9_dr_pred, bwcm_9_dr_true = sum_metric_on_set(tokenizer, test_df[\"text\"].values[:2500], \n",
    "                test_df[[\"stars_1.0\", \"stars_2.0\", \"stars_3.0\", \"stars_4.0\", \"stars_5.0\"]].values[:2500], \n",
    "                bwcm_9_probs_dr)"
   ]
  },
  {
   "cell_type": "code",
   "execution_count": 54,
   "metadata": {},
   "outputs": [
    {
     "name": "stdout",
     "output_type": "stream",
     "text": [
      "0.7292\n",
      "1.4608567208271788\n",
      "0.6360141802067948\n",
      "1.731656720827179\n"
     ]
    }
   ],
   "source": [
    "bwcm_9_dr_2_pred, bwcm_9_dr_2_true = sum_metric_on_set(tokenizer, test_df[\"text\"].values[:2500], \n",
    "                test_df[[\"stars_1.0\", \"stars_2.0\", \"stars_3.0\", \"stars_4.0\", \"stars_5.0\"]].values[:2500], \n",
    "                bwcm_9_probs_dr_2)"
   ]
  },
  {
   "cell_type": "code",
   "execution_count": 56,
   "metadata": {},
   "outputs": [
    {
     "name": "stdout",
     "output_type": "stream",
     "text": [
      "0.6104\n",
      "1.3162217659137576\n",
      "0.7186554414784394\n",
      "1.7058217659137578\n"
     ]
    }
   ],
   "source": [
    "bwcm_9_probs_dr_e_pred, bwcm_9_probs_dr_e_true = sum_metric_on_set(tokenizer, test_df[\"text\"].values[:2500], \n",
    "                test_df[[\"stars_1.0\", \"stars_2.0\", \"stars_3.0\", \"stars_4.0\", \"stars_5.0\"]].values[:2500], \n",
    "                bwcm_9_probs_dr_e)"
   ]
  },
  {
   "cell_type": "code",
   "execution_count": 101,
   "metadata": {},
   "outputs": [
    {
     "name": "stdout",
     "output_type": "stream",
     "text": [
      "0.736\n",
      "1.4393939393939394\n",
      "0.6238484848484849\n",
      "1.7033939393939395\n"
     ]
    }
   ],
   "source": [
    "conc_pred, conc_true = sum_metric_on_set(tokenizer, test_df[\"text\"].values[:2500], \n",
    "                test_df[[\"stars_1.0\", \"stars_2.0\", \"stars_3.0\", \"stars_4.0\", \"stars_5.0\"]].values[:2500], \n",
    "                conc)"
   ]
  },
  {
   "cell_type": "code",
   "execution_count": 72,
   "metadata": {},
   "outputs": [
    {
     "name": "stdout",
     "output_type": "stream",
     "text": [
      "0.0644\n",
      "1.744762719110731\n",
      "1.3717906797776829\n",
      "2.680362719110731\n"
     ]
    }
   ],
   "source": [
    "bwcm_2_probs_dr_pred, bwcm_2_probs_dr_true = sum_metric_on_set(tokenizer, test_df[\"text\"].values[:2500], \n",
    "                test_df[[\"stars_1.0\", \"stars_2.0\", \"stars_3.0\", \"stars_4.0\", \"stars_5.0\"]].values[:2500], \n",
    "                bwcm_2_probs_dr)"
   ]
  },
  {
   "cell_type": "code",
   "execution_count": 97,
   "metadata": {},
   "outputs": [
    {
     "name": "stdout",
     "output_type": "stream",
     "text": [
      "0.6396\n",
      "1.7713651498335183\n",
      "0.8032412874583796\n",
      "2.1317651498335186\n"
     ]
    }
   ],
   "source": [
    "ensemble_4_5 = models.stack_helper(models.model_to_func(b), \n",
    "                                   models.helper_binary_to_func(tn_4_5_differ, np.array([0, 0, 0, 1, 0]),\n",
    "                                                               np.array([0, 0, 0, 0, 1])), 3, .4)\n",
    "ensemble_4_5_pred, ensemble_4_5_true = sum_metric_on_set(tokenizer, test_df[\"text\"].values[:2500], \n",
    "                test_df[[\"stars_1.0\", \"stars_2.0\", \"stars_3.0\", \"stars_4.0\", \"stars_5.0\"]].values[:2500], \n",
    "                ensemble_4_5, False)"
   ]
  },
  {
   "cell_type": "code",
   "execution_count": 105,
   "metadata": {},
   "outputs": [
    {
     "name": "stdout",
     "output_type": "stream",
     "text": [
      "0.7332\n",
      "1.4587706146926536\n",
      "0.6314926536731634\n",
      "1.7255706146926535\n"
     ]
    }
   ],
   "source": [
    "conc_2_pred, conc_2_true = sum_metric_on_set(tokenizer, test_df[\"text\"].values[:2500], \n",
    "                test_df[[\"stars_1.0\", \"stars_2.0\", \"stars_3.0\", \"stars_4.0\", \"stars_5.0\"]].values[:2500], \n",
    "                conc2)"
   ]
  },
  {
   "cell_type": "code",
   "execution_count": 112,
   "metadata": {},
   "outputs": [
    {
     "name": "stdout",
     "output_type": "stream",
     "text": [
      "0.7408\n",
      "1.4243827160493827\n",
      "0.6152956790123457\n",
      "1.6835827160493828\n"
     ]
    }
   ],
   "source": [
    "conc_3_pred, conc_3_true = sum_metric_on_set(tokenizer, test_df[\"text\"].values[:2500], \n",
    "                test_df[[\"stars_1.0\", \"stars_2.0\", \"stars_3.0\", \"stars_4.0\", \"stars_5.0\"]].values[:2500], \n",
    "                conc3)"
   ]
  },
  {
   "cell_type": "code",
   "execution_count": 120,
   "metadata": {},
   "outputs": [
    {
     "name": "stdout",
     "output_type": "stream",
     "text": [
      "0.7436\n",
      "1.5054602184087365\n",
      "0.6327650546021841\n",
      "1.7618602184087366\n"
     ]
    }
   ],
   "source": [
    "conc_4_pred, conc_4_true = sum_metric_on_set(tokenizer, test_df[\"text\"].values[:2500], \n",
    "                test_df[[\"stars_1.0\", \"stars_2.0\", \"stars_3.0\", \"stars_4.0\", \"stars_5.0\"]].values[:2500], \n",
    "                conc4)"
   ]
  },
  {
   "cell_type": "code",
   "execution_count": 117,
   "metadata": {},
   "outputs": [
    {
     "data": {
      "image/png": "[encoded data removed]",
      "text/plain": [
       "<IPython.core.display.Image object>"
      ]
     },
     "execution_count": 117,
     "metadata": {},
     "output_type": "execute_result"
    }
   ],
   "source": [
    "tf.keras.utils.plot_model(conc3, \"conc3.png\")"
   ]
  },
  {
   "cell_type": "code",
   "execution_count": null,
   "metadata": {},
   "outputs": [],
   "source": []
  }
 ],
 "metadata": {
  "kernelspec": {
   "display_name": "Python 3",
   "language": "python",
   "name": "python3"
  },
  "language_info": {
   "codemirror_mode": {
    "name": "ipython",
    "version": 3
   },
   "file_extension": ".py",
   "mimetype": "text/x-python",
   "name": "python",
   "nbconvert_exporter": "python",
   "pygments_lexer": "ipython3",
   "version": "3.7.4"
  }
 },
 "nbformat": 4,
 "nbformat_minor": 2
}
