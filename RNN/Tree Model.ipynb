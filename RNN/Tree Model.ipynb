{
 "cells": [
  {
   "cell_type": "code",
   "execution_count": 2,
   "metadata": {},
   "outputs": [],
   "source": [
    "import tensorflow as tf\n",
    "import pandas as pd\n",
    "import numpy as np\n",
    "import os\n",
    "import models\n",
    "import importlib\n",
    "os.environ['KMP_DUPLICATE_LIB_OK']='True'\n",
    "from matplotlib import pyplot as plt"
   ]
  },
  {
   "cell_type": "code",
   "execution_count": 23,
   "metadata": {},
   "outputs": [
    {
     "data": {
      "text/plain": [
       "<module 'models' from '/Users/varun/School/CS182/finalproj/CS182-Spring2020-NLP-Project/models.py'>"
      ]
     },
     "execution_count": 23,
     "metadata": {},
     "output_type": "execute_result"
    }
   ],
   "source": [
    "importlib.reload(models)"
   ]
  },
  {
   "cell_type": "code",
   "execution_count": 4,
   "metadata": {},
   "outputs": [],
   "source": [
    "df = pd.read_csv(\"dataset-binary.csv\")\n",
    "df = df.dropna()"
   ]
  },
  {
   "cell_type": "code",
   "execution_count": 5,
   "metadata": {},
   "outputs": [],
   "source": [
    "train_df = df.iloc[int(len(df) * .8):]\n",
    "test_df = df.iloc[:int(len(df) * .8)]"
   ]
  },
  {
   "cell_type": "code",
   "execution_count": 6,
   "metadata": {},
   "outputs": [],
   "source": [
    "training_reviews, training_stars, test_reviews, test_stars = models.get_fit_samples(train_df, test_df, 10000)"
   ]
  },
  {
   "cell_type": "code",
   "execution_count": 13,
   "metadata": {},
   "outputs": [
    {
     "name": "stdout",
     "output_type": "stream",
     "text": [
      "Train on 8000 samples, validate on 2000 samples\n",
      "Epoch 1/5\n",
      "8000/8000 - 131s - loss: 0.5106 - accuracy: 0.7520 - val_loss: 0.3361 - val_accuracy: 0.8700\n",
      "Epoch 2/5\n",
      "8000/8000 - 117s - loss: 0.3246 - accuracy: 0.8677 - val_loss: 0.2613 - val_accuracy: 0.8990\n",
      "Epoch 3/5\n",
      "8000/8000 - 117s - loss: 0.2657 - accuracy: 0.8928 - val_loss: 0.2387 - val_accuracy: 0.9085\n",
      "Epoch 4/5\n",
      "8000/8000 - 118s - loss: 0.2259 - accuracy: 0.9103 - val_loss: 0.2375 - val_accuracy: 0.9120\n",
      "Epoch 5/5\n",
      "8000/8000 - 118s - loss: 0.2010 - accuracy: 0.9218 - val_loss: 0.2225 - val_accuracy: 0.9140\n",
      "Train on 8000 samples, validate on 2000 samples\n",
      "Epoch 1/5\n",
      "8000/8000 - 129s - loss: 0.4761 - accuracy: 0.7753 - val_loss: 0.2734 - val_accuracy: 0.8780\n",
      "Epoch 2/5\n",
      "8000/8000 - 119s - loss: 0.2933 - accuracy: 0.8752 - val_loss: 0.2497 - val_accuracy: 0.9050\n",
      "Epoch 3/5\n",
      "8000/8000 - 119s - loss: 0.3077 - accuracy: 0.8739 - val_loss: 0.2141 - val_accuracy: 0.9170\n",
      "Epoch 4/5\n",
      "8000/8000 - 119s - loss: 0.2228 - accuracy: 0.9111 - val_loss: 0.1865 - val_accuracy: 0.9230\n",
      "Epoch 5/5\n",
      "8000/8000 - 118s - loss: 0.1864 - accuracy: 0.9243 - val_loss: 0.1833 - val_accuracy: 0.9270\n",
      "Train on 8000 samples, validate on 2000 samples\n",
      "Epoch 1/5\n",
      "8000/8000 - 128s - loss: 0.3877 - accuracy: 0.8677 - val_loss: 0.3234 - val_accuracy: 0.8850\n",
      "Epoch 2/5\n",
      "8000/8000 - 118s - loss: 0.3378 - accuracy: 0.8714 - val_loss: 0.3002 - val_accuracy: 0.8835\n",
      "Epoch 3/5\n",
      "8000/8000 - 118s - loss: 0.3149 - accuracy: 0.8734 - val_loss: 0.2928 - val_accuracy: 0.8895\n",
      "Epoch 4/5\n",
      "8000/8000 - 118s - loss: 0.2949 - accuracy: 0.8770 - val_loss: 0.2892 - val_accuracy: 0.8815\n",
      "Epoch 5/5\n",
      "8000/8000 - 118s - loss: 0.2752 - accuracy: 0.8840 - val_loss: 0.2944 - val_accuracy: 0.8805\n",
      "Train on 8000 samples, validate on 2000 samples\n",
      "Epoch 1/5\n",
      "8000/8000 - 127s - loss: 0.4641 - accuracy: 0.7951 - val_loss: 0.3158 - val_accuracy: 0.8590\n",
      "Epoch 2/5\n",
      "8000/8000 - 118s - loss: 0.3079 - accuracy: 0.8676 - val_loss: 0.2420 - val_accuracy: 0.9030\n",
      "Epoch 3/5\n",
      "8000/8000 - 118s - loss: 0.2456 - accuracy: 0.8965 - val_loss: 0.2334 - val_accuracy: 0.9015\n",
      "Epoch 4/5\n",
      "8000/8000 - 118s - loss: 0.2146 - accuracy: 0.9096 - val_loss: 0.2268 - val_accuracy: 0.9165\n",
      "Epoch 5/5\n",
      "8000/8000 - 118s - loss: 0.1876 - accuracy: 0.9220 - val_loss: 0.2151 - val_accuracy: 0.9185\n"
     ]
    }
   ],
   "source": [
    "l1, l21, l22, l31, tokenizer = models.tree_model(5, training_reviews, test_reviews, training_stars, test_stars)"
   ]
  },
  {
   "cell_type": "code",
   "execution_count": 14,
   "metadata": {},
   "outputs": [],
   "source": [
    "tree_model = models.construct_tree_model(l1, l21, l22, l31)"
   ]
  },
  {
   "cell_type": "code",
   "execution_count": 29,
   "metadata": {},
   "outputs": [],
   "source": [
    "padded = models.create_padded_from_tokenizer(tokenizer, training_reviews[0:200])"
   ]
  },
  {
   "cell_type": "code",
   "execution_count": 17,
   "metadata": {},
   "outputs": [
    {
     "data": {
      "text/plain": [
       "1"
      ]
     },
     "execution_count": 17,
     "metadata": {},
     "output_type": "execute_result"
    }
   ],
   "source": [
    "tree_model(padded[2])"
   ]
  },
  {
   "cell_type": "code",
   "execution_count": 20,
   "metadata": {},
   "outputs": [
    {
     "data": {
      "text/plain": [
       "0.704"
      ]
     },
     "execution_count": 20,
     "metadata": {},
     "output_type": "execute_result"
    }
   ],
   "source": [
    "corr = 0\n",
    "comp = train_df[10000:11000][[\"stars_1.0\", \"stars_2.0\", \"stars_3.0\", \"stars_4.0\", \"stars_5.0\"]].values\n",
    "for i in range(1000):\n",
    "    guess = tree_model(padded[i])\n",
    "    if comp[i][guess - 1] == 1:\n",
    "        corr += 1\n",
    "corr / 1000"
   ]
  },
  {
   "cell_type": "code",
   "execution_count": 45,
   "metadata": {},
   "outputs": [
    {
     "name": "stdout",
     "output_type": "stream",
     "text": [
      "Train on 8000 samples, validate on 2000 samples\n",
      "Epoch 1/5\n",
      "8000/8000 - 134s - loss: 0.5093 - accuracy: 0.7731 - val_loss: 0.3206 - val_accuracy: 0.8545\n",
      "Epoch 2/5\n",
      "8000/8000 - 118s - loss: 0.5271 - accuracy: 0.8114 - val_loss: 0.3018 - val_accuracy: 0.8635\n",
      "Epoch 3/5\n",
      "8000/8000 - 119s - loss: 0.3530 - accuracy: 0.8497 - val_loss: 0.3228 - val_accuracy: 0.8930\n",
      "Epoch 4/5\n",
      "8000/8000 - 118s - loss: 0.3353 - accuracy: 0.8814 - val_loss: 0.3227 - val_accuracy: 0.9075\n",
      "Epoch 5/5\n",
      "8000/8000 - 118s - loss: 0.3855 - accuracy: 0.8876 - val_loss: 0.3370 - val_accuracy: 0.9115\n",
      "Train on 8000 samples, validate on 2000 samples\n",
      "Epoch 1/5\n",
      "8000/8000 - 127s - loss: 0.9903 - accuracy: 0.9345 - val_loss: 1.1342 - val_accuracy: 0.9265\n",
      "Epoch 2/5\n",
      "8000/8000 - 119s - loss: 1.0033 - accuracy: 0.9346 - val_loss: 1.1337 - val_accuracy: 0.9265\n",
      "Epoch 3/5\n",
      "8000/8000 - 120s - loss: 1.0027 - accuracy: 0.9350 - val_loss: 1.1337 - val_accuracy: 0.9265\n",
      "Epoch 4/5\n",
      "8000/8000 - 118s - loss: 1.0026 - accuracy: 0.9350 - val_loss: 1.1337 - val_accuracy: 0.9265\n",
      "Epoch 5/5\n",
      "8000/8000 - 120s - loss: 1.0026 - accuracy: 0.9350 - val_loss: 1.1337 - val_accuracy: 0.9265\n",
      "Train on 8000 samples, validate on 2000 samples\n",
      "Epoch 1/5\n",
      "8000/8000 - 127s - loss: 0.8188 - accuracy: 0.9454 - val_loss: 1.1569 - val_accuracy: 0.9250\n",
      "Epoch 2/5\n",
      "8000/8000 - 119s - loss: 0.8195 - accuracy: 0.9469 - val_loss: 1.1569 - val_accuracy: 0.9250\n",
      "Epoch 3/5\n",
      "8000/8000 - 118s - loss: 0.8195 - accuracy: 0.9469 - val_loss: 1.1569 - val_accuracy: 0.9250\n",
      "Epoch 4/5\n",
      "8000/8000 - 118s - loss: 0.8195 - accuracy: 0.9469 - val_loss: 1.1569 - val_accuracy: 0.9250\n",
      "Epoch 5/5\n",
      "8000/8000 - 118s - loss: 0.8195 - accuracy: 0.9469 - val_loss: 1.1569 - val_accuracy: 0.9250\n",
      "Train on 8000 samples, validate on 2000 samples\n",
      "Epoch 1/5\n",
      "8000/8000 - 127s - loss: 0.5689 - accuracy: 0.8275 - val_loss: 0.4236 - val_accuracy: 0.8385\n",
      "Epoch 2/5\n",
      "8000/8000 - 118s - loss: 0.3842 - accuracy: 0.8727 - val_loss: 0.4162 - val_accuracy: 0.8375\n",
      "Epoch 3/5\n",
      "8000/8000 - 118s - loss: 0.3596 - accuracy: 0.8727 - val_loss: 0.4399 - val_accuracy: 0.8340\n",
      "Epoch 4/5\n",
      "8000/8000 - 117s - loss: 0.3729 - accuracy: 0.8684 - val_loss: 0.4307 - val_accuracy: 0.8380\n",
      "Epoch 5/5\n",
      "8000/8000 - 120s - loss: 0.6703 - accuracy: 0.8356 - val_loss: 1.2826 - val_accuracy: 0.7555\n",
      "Train on 8000 samples, validate on 2000 samples\n",
      "Epoch 1/5\n",
      "8000/8000 - 145s - loss: 0.8801 - accuracy: 0.5930 - val_loss: 0.6130 - val_accuracy: 0.6455\n",
      "Epoch 2/5\n",
      "8000/8000 - 119s - loss: 0.5843 - accuracy: 0.7519 - val_loss: 0.8497 - val_accuracy: 0.7080\n",
      "Epoch 3/5\n",
      "8000/8000 - 119s - loss: 0.5643 - accuracy: 0.7876 - val_loss: 0.6550 - val_accuracy: 0.7750\n",
      "Epoch 4/5\n",
      "8000/8000 - 129s - loss: 0.5259 - accuracy: 0.8142 - val_loss: 0.5293 - val_accuracy: 0.8280\n",
      "Epoch 5/5\n",
      "8000/8000 - 118s - loss: 0.6235 - accuracy: 0.8091 - val_loss: 1.7554 - val_accuracy: 0.6805\n"
     ]
    }
   ],
   "source": [
    "m1, m2, m3, m4, m5 = models.flat_model(5, training_reviews, test_reviews, training_stars, test_stars)"
   ]
  },
  {
   "cell_type": "code",
   "execution_count": 46,
   "metadata": {},
   "outputs": [
    {
     "data": {
      "text/plain": [
       "array([[1.2706668]], dtype=float32)"
      ]
     },
     "execution_count": 46,
     "metadata": {},
     "output_type": "execute_result"
    }
   ],
   "source": [
    "m1.predict(padded[0])"
   ]
  },
  {
   "cell_type": "code",
   "execution_count": 19,
   "metadata": {},
   "outputs": [],
   "source": [
    "l1.save(\"l1.h5\")\n",
    "l21.save(\"l21.h5\")\n",
    "l22.save(\"l22.h5\")\n",
    "l31.save(\"l31.h5\")"
   ]
  },
  {
   "cell_type": "code",
   "execution_count": 24,
   "metadata": {},
   "outputs": [
    {
     "name": "stdout",
     "output_type": "stream",
     "text": [
      "Train on 8000 samples, validate on 2000 samples\n",
      "Epoch 1/5\n",
      "8000/8000 - 147s - loss: 0.3726 - accuracy: 0.8438 - val_loss: 0.2896 - val_accuracy: 0.8824\n",
      "Epoch 2/5\n",
      "8000/8000 - 133s - loss: 0.2800 - accuracy: 0.8888 - val_loss: 0.2387 - val_accuracy: 0.9042\n",
      "Epoch 3/5\n",
      "8000/8000 - 132s - loss: 0.2506 - accuracy: 0.8996 - val_loss: 0.2261 - val_accuracy: 0.9111\n",
      "Epoch 4/5\n",
      "8000/8000 - 131s - loss: 0.2308 - accuracy: 0.9066 - val_loss: 0.2242 - val_accuracy: 0.9085\n",
      "Epoch 5/5\n",
      "8000/8000 - 140s - loss: 0.2188 - accuracy: 0.9101 - val_loss: 0.2259 - val_accuracy: 0.9081\n"
     ]
    }
   ],
   "source": [
    "model, history = models.kaggle_model(5, training_reviews, test_reviews, training_stars, test_stars)"
   ]
  },
  {
   "cell_type": "code",
   "execution_count": 33,
   "metadata": {},
   "outputs": [],
   "source": [
    "temp = model.predict(padded.squeeze())"
   ]
  },
  {
   "cell_type": "code",
   "execution_count": 32,
   "metadata": {},
   "outputs": [
    {
     "data": {
      "text/plain": [
       "array([1, 0, 0, 0, 0])"
      ]
     },
     "execution_count": 32,
     "metadata": {},
     "output_type": "execute_result"
    }
   ],
   "source": [
    "training_stars[0]"
   ]
  },
  {
   "cell_type": "code",
   "execution_count": 34,
   "metadata": {},
   "outputs": [],
   "source": [
    "temp = np.array([np.argmax(i) for i in temp])"
   ]
  },
  {
   "cell_type": "code",
   "execution_count": 36,
   "metadata": {},
   "outputs": [
    {
     "data": {
      "text/plain": [
       "array([[1, 0, 0, 0, 0],\n",
       "       [0, 0, 0, 0, 1],\n",
       "       [0, 0, 0, 1, 0],\n",
       "       [0, 0, 0, 0, 1],\n",
       "       [0, 0, 0, 0, 1],\n",
       "       [0, 0, 0, 0, 1],\n",
       "       [0, 0, 0, 0, 1],\n",
       "       [1, 0, 0, 0, 0],\n",
       "       [1, 0, 0, 0, 0],\n",
       "       [0, 0, 0, 0, 1],\n",
       "       [0, 0, 0, 0, 1],\n",
       "       [0, 0, 0, 1, 0],\n",
       "       [0, 0, 0, 1, 0],\n",
       "       [1, 0, 0, 0, 0],\n",
       "       [0, 0, 0, 0, 1],\n",
       "       [0, 1, 0, 0, 0],\n",
       "       [1, 0, 0, 0, 0],\n",
       "       [0, 0, 0, 0, 1],\n",
       "       [0, 0, 0, 0, 1],\n",
       "       [1, 0, 0, 0, 0],\n",
       "       [0, 0, 0, 1, 0],\n",
       "       [0, 0, 0, 0, 1],\n",
       "       [0, 0, 0, 0, 1],\n",
       "       [0, 0, 0, 0, 1],\n",
       "       [0, 0, 1, 0, 0],\n",
       "       [0, 0, 0, 0, 1],\n",
       "       [0, 0, 0, 0, 1],\n",
       "       [0, 0, 0, 0, 1],\n",
       "       [0, 0, 0, 1, 0],\n",
       "       [0, 0, 0, 0, 1],\n",
       "       [0, 0, 0, 0, 1],\n",
       "       [0, 0, 0, 0, 1],\n",
       "       [1, 0, 0, 0, 0],\n",
       "       [0, 0, 1, 0, 0],\n",
       "       [0, 0, 0, 0, 1],\n",
       "       [0, 0, 0, 0, 1],\n",
       "       [0, 0, 0, 0, 1],\n",
       "       [0, 0, 0, 0, 1],\n",
       "       [0, 0, 0, 1, 0],\n",
       "       [0, 0, 0, 0, 1],\n",
       "       [0, 0, 0, 0, 1],\n",
       "       [0, 0, 0, 0, 1],\n",
       "       [0, 0, 0, 0, 1],\n",
       "       [0, 0, 0, 1, 0],\n",
       "       [0, 0, 0, 0, 1],\n",
       "       [0, 0, 0, 1, 0],\n",
       "       [0, 0, 0, 0, 1],\n",
       "       [1, 0, 0, 0, 0],\n",
       "       [0, 0, 0, 0, 1],\n",
       "       [1, 0, 0, 0, 0],\n",
       "       [0, 0, 0, 0, 1],\n",
       "       [0, 0, 0, 1, 0],\n",
       "       [0, 0, 0, 0, 1],\n",
       "       [0, 0, 0, 1, 0],\n",
       "       [1, 0, 0, 0, 0],\n",
       "       [0, 0, 0, 0, 1],\n",
       "       [0, 0, 0, 1, 0],\n",
       "       [0, 0, 0, 0, 1],\n",
       "       [0, 0, 0, 0, 1],\n",
       "       [0, 0, 0, 0, 1],\n",
       "       [0, 0, 0, 0, 1],\n",
       "       [1, 0, 0, 0, 0],\n",
       "       [0, 0, 0, 1, 0],\n",
       "       [0, 0, 0, 1, 0],\n",
       "       [0, 0, 0, 0, 1],\n",
       "       [0, 0, 0, 0, 1],\n",
       "       [1, 0, 0, 0, 0],\n",
       "       [0, 0, 0, 0, 1],\n",
       "       [0, 0, 1, 0, 0],\n",
       "       [0, 0, 0, 0, 1],\n",
       "       [1, 0, 0, 0, 0],\n",
       "       [0, 0, 0, 0, 1],\n",
       "       [0, 0, 0, 0, 1],\n",
       "       [0, 0, 0, 1, 0],\n",
       "       [0, 0, 0, 1, 0],\n",
       "       [1, 0, 0, 0, 0],\n",
       "       [0, 0, 0, 0, 1],\n",
       "       [0, 0, 0, 0, 1],\n",
       "       [0, 0, 0, 0, 1],\n",
       "       [1, 0, 0, 0, 0],\n",
       "       [0, 0, 0, 0, 1],\n",
       "       [1, 0, 0, 0, 0],\n",
       "       [0, 0, 0, 0, 1],\n",
       "       [0, 0, 0, 0, 1],\n",
       "       [0, 0, 0, 1, 0],\n",
       "       [0, 0, 0, 1, 0],\n",
       "       [0, 0, 0, 0, 1],\n",
       "       [0, 0, 0, 0, 1],\n",
       "       [0, 1, 0, 0, 0],\n",
       "       [0, 0, 0, 0, 1],\n",
       "       [1, 0, 0, 0, 0],\n",
       "       [0, 0, 0, 1, 0],\n",
       "       [0, 0, 0, 1, 0],\n",
       "       [0, 0, 0, 1, 0],\n",
       "       [1, 0, 0, 0, 0],\n",
       "       [0, 0, 0, 0, 1],\n",
       "       [0, 0, 0, 0, 1],\n",
       "       [0, 0, 0, 0, 1],\n",
       "       [0, 0, 0, 1, 0],\n",
       "       [0, 0, 0, 1, 0],\n",
       "       [0, 0, 0, 0, 1],\n",
       "       [0, 0, 0, 0, 1],\n",
       "       [1, 0, 0, 0, 0],\n",
       "       [0, 0, 0, 0, 1],\n",
       "       [1, 0, 0, 0, 0],\n",
       "       [1, 0, 0, 0, 0],\n",
       "       [1, 0, 0, 0, 0],\n",
       "       [0, 0, 0, 0, 1],\n",
       "       [0, 0, 0, 1, 0],\n",
       "       [0, 0, 0, 0, 1],\n",
       "       [0, 0, 0, 0, 1],\n",
       "       [1, 0, 0, 0, 0],\n",
       "       [0, 0, 0, 0, 1],\n",
       "       [0, 0, 0, 0, 1],\n",
       "       [1, 0, 0, 0, 0],\n",
       "       [0, 0, 1, 0, 0],\n",
       "       [0, 0, 0, 0, 1],\n",
       "       [0, 0, 0, 0, 1],\n",
       "       [0, 0, 0, 0, 1],\n",
       "       [0, 0, 0, 0, 1],\n",
       "       [0, 0, 0, 0, 1],\n",
       "       [1, 0, 0, 0, 0],\n",
       "       [0, 0, 0, 0, 1],\n",
       "       [0, 0, 1, 0, 0],\n",
       "       [0, 0, 0, 0, 1],\n",
       "       [0, 0, 0, 1, 0],\n",
       "       [1, 0, 0, 0, 0],\n",
       "       [0, 0, 0, 1, 0],\n",
       "       [0, 0, 0, 0, 1],\n",
       "       [0, 0, 0, 0, 1],\n",
       "       [1, 0, 0, 0, 0],\n",
       "       [0, 0, 0, 0, 1],\n",
       "       [0, 0, 0, 0, 1],\n",
       "       [0, 0, 0, 1, 0],\n",
       "       [1, 0, 0, 0, 0],\n",
       "       [0, 0, 0, 0, 1],\n",
       "       [0, 0, 0, 0, 1],\n",
       "       [0, 0, 0, 1, 0],\n",
       "       [1, 0, 0, 0, 0],\n",
       "       [0, 1, 0, 0, 0],\n",
       "       [1, 0, 0, 0, 0],\n",
       "       [0, 0, 0, 0, 1],\n",
       "       [1, 0, 0, 0, 0],\n",
       "       [1, 0, 0, 0, 0],\n",
       "       [1, 0, 0, 0, 0],\n",
       "       [1, 0, 0, 0, 0],\n",
       "       [0, 0, 0, 0, 1],\n",
       "       [1, 0, 0, 0, 0],\n",
       "       [0, 0, 0, 0, 1],\n",
       "       [1, 0, 0, 0, 0],\n",
       "       [1, 0, 0, 0, 0],\n",
       "       [0, 0, 0, 1, 0],\n",
       "       [0, 0, 0, 0, 1],\n",
       "       [0, 0, 0, 1, 0],\n",
       "       [0, 0, 0, 0, 1],\n",
       "       [0, 0, 0, 0, 1],\n",
       "       [0, 0, 0, 0, 1],\n",
       "       [0, 0, 0, 1, 0],\n",
       "       [0, 0, 1, 0, 0],\n",
       "       [0, 0, 0, 0, 1],\n",
       "       [1, 0, 0, 0, 0],\n",
       "       [1, 0, 0, 0, 0],\n",
       "       [0, 0, 0, 0, 1],\n",
       "       [0, 0, 0, 0, 1],\n",
       "       [0, 0, 0, 0, 1],\n",
       "       [0, 0, 0, 0, 1],\n",
       "       [0, 0, 0, 0, 1],\n",
       "       [0, 0, 0, 1, 0],\n",
       "       [0, 0, 0, 0, 1],\n",
       "       [0, 0, 0, 0, 1],\n",
       "       [1, 0, 0, 0, 0],\n",
       "       [1, 0, 0, 0, 0],\n",
       "       [1, 0, 0, 0, 0],\n",
       "       [0, 0, 0, 1, 0],\n",
       "       [0, 0, 0, 1, 0],\n",
       "       [0, 0, 0, 0, 1],\n",
       "       [0, 0, 0, 0, 1],\n",
       "       [0, 0, 0, 0, 1],\n",
       "       [0, 0, 0, 0, 1],\n",
       "       [0, 0, 0, 0, 1],\n",
       "       [1, 0, 0, 0, 0],\n",
       "       [0, 0, 0, 0, 1],\n",
       "       [1, 0, 0, 0, 0],\n",
       "       [0, 0, 0, 0, 1],\n",
       "       [1, 0, 0, 0, 0],\n",
       "       [0, 0, 0, 1, 0],\n",
       "       [0, 0, 0, 1, 0],\n",
       "       [1, 0, 0, 0, 0],\n",
       "       [0, 0, 0, 1, 0],\n",
       "       [1, 0, 0, 0, 0],\n",
       "       [0, 0, 0, 0, 1],\n",
       "       [1, 0, 0, 0, 0],\n",
       "       [0, 0, 0, 0, 1],\n",
       "       [0, 0, 0, 0, 1],\n",
       "       [0, 0, 0, 0, 1],\n",
       "       [0, 0, 0, 0, 1],\n",
       "       [1, 0, 0, 0, 0],\n",
       "       [1, 0, 0, 0, 0],\n",
       "       [0, 0, 0, 0, 1],\n",
       "       [0, 0, 0, 0, 1]])"
      ]
     },
     "execution_count": 36,
     "metadata": {},
     "output_type": "execute_result"
    }
   ],
   "source": [
    "out = []\n",
    "for i in temp:\n",
    "    x = [0, 0, 0, 0, 0]\n",
    "    x[i] = 1\n",
    "    out.append(np.array(x))\n",
    "np.array(out)"
   ]
  },
  {
   "cell_type": "code",
   "execution_count": 45,
   "metadata": {},
   "outputs": [
    {
     "data": {
      "text/plain": [
       "0.775"
      ]
     },
     "execution_count": 45,
     "metadata": {},
     "output_type": "execute_result"
    }
   ],
   "source": [
    "corr = 0\n",
    "for i in range(200):\n",
    "    if list(training_stars[i]) == list(out[i]):\n",
    "        corr += 1\n",
    "corr / 200"
   ]
  },
  {
   "cell_type": "code",
   "execution_count": null,
   "metadata": {},
   "outputs": [],
   "source": []
  },
  {
   "cell_type": "code",
   "execution_count": 40,
   "metadata": {},
   "outputs": [
    {
     "data": {
      "text/plain": [
       "array([1, 0, 0, 0, 0])"
      ]
     },
     "execution_count": 40,
     "metadata": {},
     "output_type": "execute_result"
    }
   ],
   "source": []
  },
  {
   "cell_type": "code",
   "execution_count": null,
   "metadata": {},
   "outputs": [],
   "source": []
  }
 ],
 "metadata": {
  "kernelspec": {
   "display_name": "Python 3",
   "language": "python",
   "name": "python3"
  },
  "language_info": {
   "codemirror_mode": {
    "name": "ipython",
    "version": 3
   },
   "file_extension": ".py",
   "mimetype": "text/x-python",
   "name": "python",
   "nbconvert_exporter": "python",
   "pygments_lexer": "ipython3",
   "version": "3.7.4"
  }
 },
 "nbformat": 4,
 "nbformat_minor": 2
}
